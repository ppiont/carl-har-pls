{
  "nbformat": 4,
  "nbformat_minor": 0,
  "metadata": {
    "colab": {
      "name": "PLS_ANN.ipynb",
      "provenance": [],
      "collapsed_sections": [],
      "include_colab_link": true
    },
    "kernelspec": {
      "name": "python3",
      "display_name": "Python 3"
    },
    "accelerator": "GPU"
  },
  "cells": [
    {
      "cell_type": "markdown",
      "metadata": {
        "id": "view-in-github",
        "colab_type": "text"
      },
      "source": [
        "<a href=\"https://colab.research.google.com/github/ppiont/carl-har-pls/blob/master/PLS_ANN.ipynb\" target=\"_parent\"><img src=\"https://colab.research.google.com/assets/colab-badge.svg\" alt=\"Open In Colab\"/></a>"
      ]
    },
    {
      "cell_type": "code",
      "metadata": {
        "colab": {
          "base_uri": "https://localhost:8080/"
        },
        "id": "axn5ns3Rj5Fm",
        "outputId": "4fd785f9-d74f-4bcd-f4c4-190fccb4d50c"
      },
      "source": [
        "from google.colab import drive\n",
        "drive.mount('/content/gdrive/')"
      ],
      "execution_count": null,
      "outputs": [
        {
          "output_type": "stream",
          "text": [
            "Mounted at /content/gdrive/\n"
          ],
          "name": "stdout"
        }
      ]
    },
    {
      "cell_type": "code",
      "metadata": {
        "id": "6ohuBbWckCHo"
      },
      "source": [
        "import numpy as np\n",
        "import pdb\n",
        "import scipy.io\n",
        "import matplotlib.pyplot as plt\n",
        "from sklearn.cross_decomposition import PLSRegression\n",
        "from sklearn.metrics import mean_squared_error\n",
        "import tensorflow as tf"
      ],
      "execution_count": null,
      "outputs": []
    },
    {
      "cell_type": "code",
      "metadata": {
        "id": "b20afxT2kftI"
      },
      "source": [
        "class neural_net(tf.keras.Model):\n",
        "    def __init__(self, regularization = 1e-6,num_neurons=16,num_layers=3): #You can choose to have more input here! E.g. number of neurons.\n",
        "        super(neural_net, self).__init__()\n",
        "\n",
        "        self.num_layers = num_layers\n",
        "        self.num_neurons = num_neurons\n",
        "        self.regularization = regularization\n",
        "\n",
        "        regu = tf.keras.regularizers.l2(self.regularization)\n",
        "\n",
        "        self.dense = []\n",
        "        self.batch_norm = []\n",
        "        for i in range(self.num_layers):\n",
        "            self.dense.append(tf.keras.layers.Dense(self.num_neurons,activation='relu',use_bias=True,kernel_regularizer = regu))\n",
        "            self.batch_norm.append(tf.keras.layers.BatchNormalization())\n",
        "\n",
        "        self.dense_output = tf.keras.layers.Dense(1,activation='linear',use_bias=True,kernel_regularizer = regu)\n",
        "    #Define the forward propagation\n",
        "    def call(self, x):\n",
        "\n",
        "        for i in range(self.num_layers):\n",
        "            x = self.dense[i](x)\n",
        "            x = self.batch_norm[i](x)\n",
        "\n",
        "        x = self.dense_output(x)\n",
        "\n",
        "        return x\n",
        "############################################################\n"
      ],
      "execution_count": null,
      "outputs": []
    },
    {
      "cell_type": "code",
      "metadata": {
        "id": "qCH4xNFFkCKZ"
      },
      "source": [
        "data_dict = scipy.io.loadmat('/content/gdrive/MyDrive/CWI/side_projects/pls_vs_ann/carl-har-pls/carl-har-pls/data/data.mat')\n",
        "\n",
        "Xtest = data_dict['Xtest'] + data_dict['Ex_test']\n",
        "ytest = data_dict['ytest'][:,0] + data_dict['ey_test'][:,0]\n",
        "\n",
        "X1 = data_dict['X1']\n",
        "X2 = data_dict['X2']\n",
        "\n",
        "y1 = data_dict['y1'][:,0] + data_dict['ey'][:,0]\n",
        "y2 = data_dict['y2'][:,0]\n",
        "\n",
        "\n",
        "Ex = data_dict['Ex']\n",
        "ey = data_dict['ey']\n",
        "\n",
        "It = data_dict['It'][0,0]"
      ],
      "execution_count": null,
      "outputs": []
    },
    {
      "cell_type": "code",
      "metadata": {
        "id": "OASYPyCnkCNq"
      },
      "source": [
        "\n",
        "MSE_X1 = []\n",
        "MSE_X2 = []\n",
        "std_X1 = []\n",
        "std_X2 = []\n",
        "for components in [1,2,3]:\n",
        "    component_score_X1 = []\n",
        "    component_score_X2 = []\n",
        "    for i in range(It):\n",
        "        PLSR_X1 = PLSRegression(n_components = components)\n",
        "        PLSR_X2 = PLSRegression(n_components = components)\n",
        "        PLSR_X1.fit(X1+Ex[:,:,i],y1+ey[:,i])\n",
        "        PLSR_X2.fit(X2+Ex[:,:,i],y2+ey[:,i])\n",
        "\n",
        "        component_score_X1.append(mean_squared_error(PLSR_X1.predict(Xtest),ytest))\n",
        "        component_score_X2.append(mean_squared_error(PLSR_X2.predict(Xtest),ytest))\n",
        "\n",
        "    MSE_X1.append(np.mean(component_score_X1))\n",
        "    MSE_X2.append(np.mean(component_score_X2))\n",
        "    std_X1.append(np.std(component_score_X1))\n",
        "    std_X2.append(np.std(component_score_X2))\n",
        "\n"
      ],
      "execution_count": null,
      "outputs": []
    },
    {
      "cell_type": "code",
      "metadata": {
        "colab": {
          "base_uri": "https://localhost:8080/"
        },
        "id": "yXjqLgcslraF",
        "outputId": "298f7cb5-a604-4351-892a-5e24b20b4fad"
      },
      "source": [
        "#L2 regularization\n",
        "regu = 1e-6\n",
        "\n",
        "#Number of epochs\n",
        "num_epochs = 750\n",
        "\n",
        "#Batch_size\n",
        "batch_size = 8\n",
        "\n",
        "ANN_MSE_X1 = []\n",
        "ANN_MSE_X2 = []\n",
        "ANN_std_X1 = []\n",
        "ANN_std_X2 = []\n",
        "for num_layers in [1,2,3]:\n",
        "    layer_score_X1 = []\n",
        "    for i in range(75):\n",
        "        #Create an instance of you neural network model\n",
        "        model = neural_net(regularization=regu,num_layers=num_layers,num_neurons=16)\n",
        "        optimizer = tf.keras.optimizers.Adam(learning_rate=1e-3)\n",
        "\n",
        "        #Compile network\n",
        "        model.compile(optimizer=optimizer, loss=\"mse\", metrics=[\"mae\"])\n",
        "\n",
        "        #Set up callback function. Necessary for early-stopping\n",
        "        callback = tf.keras.callbacks.EarlyStopping(monitor='loss', patience=30)\n",
        "\n",
        "        #Train network using model.fit\n",
        "        history = model.fit(X1+Ex[:,:,i],y1+ey[:,i],validation_data=(Xtest, ytest),epochs=num_epochs,verbose=0)\n",
        "        #history = model.fit(X1+Ex[:,:,0],y1+ey[:,0],epochs=num_epochs,verbose=1)\n",
        "        train_loss = history.history['loss']\n",
        "        val_loss = history.history['val_loss']\n",
        "\n",
        "        layer_score_X1.append(mean_squared_error(model.predict(Xtest), ytest))\n",
        "\n",
        "        del model\n",
        "        tf.keras.backend.clear_session()\n",
        "        tf.compat.v1.reset_default_graph()\n",
        "\n",
        "        print(i)\n",
        "\n",
        "    ANN_MSE_X1.append(np.mean(layer_score_X1))\n",
        "    ANN_std_X1.append(np.std(layer_score_X1))\n",
        "\n",
        "for num_layers in [1,2,3]:\n",
        "    layer_score_X2 = []\n",
        "    for i in range(75):\n",
        "        #Create an instance of you neural network model\n",
        "        model = neural_net(regularization=regu,num_layers=num_layers,num_neurons=16)\n",
        "        optimizer = tf.keras.optimizers.Adam(learning_rate=1e-3)\n",
        "\n",
        "        #Compile network\n",
        "        model.compile(optimizer=optimizer, loss=\"mse\", metrics=[\"mae\"])\n",
        "\n",
        "        #Set up callback function. Necessary for early-stopping\n",
        "        callback = tf.keras.callbacks.EarlyStopping(monitor='loss', patience=30)\n",
        "\n",
        "        #Train network using model.fit\n",
        "        history = model.fit(X2+Ex[:,:,i],y1+ey[:,i],validation_data=(Xtest, ytest),epochs=num_epochs,verbose=0)\n",
        "        #history = model.fit(X1+Ex[:,:,0],y1+ey[:,0],epochs=num_epochs,verbose=1)\n",
        "        train_loss = history.history['loss']\n",
        "        val_loss = history.history['val_loss']\n",
        "\n",
        "        layer_score_X2.append(mean_squared_error(model.predict(Xtest), ytest))\n",
        "\n",
        "        del model\n",
        "        tf.keras.backend.clear_session()\n",
        "        tf.compat.v1.reset_default_graph()\n",
        "\n",
        "        print(i)\n",
        "\n",
        "    ANN_MSE_X2.append(np.mean(layer_score_X2))\n",
        "    ANN_std_X2.append(np.std(layer_score_X2))\n",
        "\n",
        "plt.figure()\n",
        "plt.errorbar([1,2,3],MSE_X1,yerr=std_X1,linewidth=3,label='X1 PLS')\n",
        "plt.errorbar([1,2,3],MSE_X2,yerr=std_X2,linewidth=3,label='X2 PLS')\n",
        "plt.errorbar([1,2,3],ANN_MSE_X1,yerr=ANN_std_X1,linewidth=3,label='X1 ANN')\n",
        "plt.errorbar([1,2,3],ANN_MSE_X2,yerr=ANN_std_X2,linewidth=3,label='X2 ANN')\n",
        "plt.grid()\n",
        "plt.legend(loc='best')\n",
        "plt.xlabel('PLS Components / ANN Layers')\n",
        "plt.ylabel('MSE')\n",
        "plt.savefig('PLS_ANN_MSE')\n",
        "plt.show()"
      ],
      "execution_count": null,
      "outputs": [
        {
          "output_type": "stream",
          "text": [
            "0\n",
            "1\n",
            "2\n",
            "3\n",
            "4\n",
            "5\n",
            "6\n"
          ],
          "name": "stdout"
        }
      ]
    },
    {
      "cell_type": "code",
      "metadata": {
        "id": "qsQj-02jlxPH"
      },
      "source": [
        ""
      ],
      "execution_count": null,
      "outputs": []
    }
  ]
}